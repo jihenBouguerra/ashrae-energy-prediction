{
  "nbformat": 4,
  "nbformat_minor": 0,
  "metadata": {
    "kernelspec": {
      "display_name": "Python 3",
      "language": "python",
      "name": "python3"
    },
    "language_info": {
      "codemirror_mode": {
        "name": "ipython",
        "version": 3
      },
      "file_extension": ".py",
      "mimetype": "text/x-python",
      "name": "python",
      "nbconvert_exporter": "python",
      "pygments_lexer": "ipython3",
      "version": "3.7.3"
    },
    "colab": {
      "name": "kaggle.ipynb",
      "provenance": [],
      "collapsed_sections": [],
      "machine_shape": "hm",
      "include_colab_link": true
    }
  },
  "cells": [
    {
      "cell_type": "markdown",
      "metadata": {
        "id": "view-in-github",
        "colab_type": "text"
      },
      "source": [
        "<a href=\"https://colab.research.google.com/github/jihenBouguerra/ashrae-energy-prediction/blob/master/kaggle.ipynb\" target=\"_parent\"><img src=\"https://colab.research.google.com/assets/colab-badge.svg\" alt=\"Open In Colab\"/></a>"
      ]
    },
    {
      "cell_type": "markdown",
      "metadata": {
        "id": "O48oshtUCCDa",
        "colab_type": "text"
      },
      "source": [
        "# Download Data from kaggle \n",
        "\n",
        "\n",
        "*   Create kaggle folder \n",
        "*   Import API\n",
        "*   Download data \n",
        "*   Unzip data \n",
        "\n"
      ]
    },
    {
      "cell_type": "code",
      "metadata": {
        "id": "l14bcWHYCCDc",
        "colab_type": "code",
        "outputId": "a5a7c51c-63e0-4f8e-b814-4ebf43e88cad",
        "colab": {
          "base_uri": "https://localhost:8080/",
          "height": 33
        }
      },
      "source": [
        "!rm -dr ~/.kaggle\n",
        "!pip install -U -q kaggle\n",
        "\n",
        "!mkdir -p ~/.kaggle\n",
        "from google.colab import files\n"
      ],
      "execution_count": 0,
      "outputs": [
        {
          "output_type": "stream",
          "text": [
            "rm: cannot remove '/root/.kaggle': No such file or directory\n"
          ],
          "name": "stdout"
        }
      ]
    },
    {
      "cell_type": "code",
      "metadata": {
        "id": "fXp8ZXnkCTHN",
        "colab_type": "code",
        "outputId": "00d46944-5208-4bb2-a89a-d953a5a33b41",
        "colab": {
          "resources": {
            "http://localhost:8080/nbextensions/google.colab/files.js": {
              "data": "Ly8gQ29weXJpZ2h0IDIwMTcgR29vZ2xlIExMQwovLwovLyBMaWNlbnNlZCB1bmRlciB0aGUgQXBhY2hlIExpY2Vuc2UsIFZlcnNpb24gMi4wICh0aGUgIkxpY2Vuc2UiKTsKLy8geW91IG1heSBub3QgdXNlIHRoaXMgZmlsZSBleGNlcHQgaW4gY29tcGxpYW5jZSB3aXRoIHRoZSBMaWNlbnNlLgovLyBZb3UgbWF5IG9idGFpbiBhIGNvcHkgb2YgdGhlIExpY2Vuc2UgYXQKLy8KLy8gICAgICBodHRwOi8vd3d3LmFwYWNoZS5vcmcvbGljZW5zZXMvTElDRU5TRS0yLjAKLy8KLy8gVW5sZXNzIHJlcXVpcmVkIGJ5IGFwcGxpY2FibGUgbGF3IG9yIGFncmVlZCB0byBpbiB3cml0aW5nLCBzb2Z0d2FyZQovLyBkaXN0cmlidXRlZCB1bmRlciB0aGUgTGljZW5zZSBpcyBkaXN0cmlidXRlZCBvbiBhbiAiQVMgSVMiIEJBU0lTLAovLyBXSVRIT1VUIFdBUlJBTlRJRVMgT1IgQ09ORElUSU9OUyBPRiBBTlkgS0lORCwgZWl0aGVyIGV4cHJlc3Mgb3IgaW1wbGllZC4KLy8gU2VlIHRoZSBMaWNlbnNlIGZvciB0aGUgc3BlY2lmaWMgbGFuZ3VhZ2UgZ292ZXJuaW5nIHBlcm1pc3Npb25zIGFuZAovLyBsaW1pdGF0aW9ucyB1bmRlciB0aGUgTGljZW5zZS4KCi8qKgogKiBAZmlsZW92ZXJ2aWV3IEhlbHBlcnMgZm9yIGdvb2dsZS5jb2xhYiBQeXRob24gbW9kdWxlLgogKi8KKGZ1bmN0aW9uKHNjb3BlKSB7CmZ1bmN0aW9uIHNwYW4odGV4dCwgc3R5bGVBdHRyaWJ1dGVzID0ge30pIHsKICBjb25zdCBlbGVtZW50ID0gZG9jdW1lbnQuY3JlYXRlRWxlbWVudCgnc3BhbicpOwogIGVsZW1lbnQudGV4dENvbnRlbnQgPSB0ZXh0OwogIGZvciAoY29uc3Qga2V5IG9mIE9iamVjdC5rZXlzKHN0eWxlQXR0cmlidXRlcykpIHsKICAgIGVsZW1lbnQuc3R5bGVba2V5XSA9IHN0eWxlQXR0cmlidXRlc1trZXldOwogIH0KICByZXR1cm4gZWxlbWVudDsKfQoKLy8gTWF4IG51bWJlciBvZiBieXRlcyB3aGljaCB3aWxsIGJlIHVwbG9hZGVkIGF0IGEgdGltZS4KY29uc3QgTUFYX1BBWUxPQURfU0laRSA9IDEwMCAqIDEwMjQ7Ci8vIE1heCBhbW91bnQgb2YgdGltZSB0byBibG9jayB3YWl0aW5nIGZvciB0aGUgdXNlci4KY29uc3QgRklMRV9DSEFOR0VfVElNRU9VVF9NUyA9IDMwICogMTAwMDsKCmZ1bmN0aW9uIF91cGxvYWRGaWxlcyhpbnB1dElkLCBvdXRwdXRJZCkgewogIGNvbnN0IHN0ZXBzID0gdXBsb2FkRmlsZXNTdGVwKGlucHV0SWQsIG91dHB1dElkKTsKICBjb25zdCBvdXRwdXRFbGVtZW50ID0gZG9jdW1lbnQuZ2V0RWxlbWVudEJ5SWQob3V0cHV0SWQpOwogIC8vIENhY2hlIHN0ZXBzIG9uIHRoZSBvdXRwdXRFbGVtZW50IHRvIG1ha2UgaXQgYXZhaWxhYmxlIGZvciB0aGUgbmV4dCBjYWxsCiAgLy8gdG8gdXBsb2FkRmlsZXNDb250aW51ZSBmcm9tIFB5dGhvbi4KICBvdXRwdXRFbGVtZW50LnN0ZXBzID0gc3RlcHM7CgogIHJldHVybiBfdXBsb2FkRmlsZXNDb250aW51ZShvdXRwdXRJZCk7Cn0KCi8vIFRoaXMgaXMgcm91Z2hseSBhbiBhc3luYyBnZW5lcmF0b3IgKG5vdCBzdXBwb3J0ZWQgaW4gdGhlIGJyb3dzZXIgeWV0KSwKLy8gd2hlcmUgdGhlcmUgYXJlIG11bHRpcGxlIGFzeW5jaHJvbm91cyBzdGVwcyBhbmQgdGhlIFB5dGhvbiBzaWRlIGlzIGdvaW5nCi8vIHRvIHBvbGwgZm9yIGNvbXBsZXRpb24gb2YgZWFjaCBzdGVwLgovLyBUaGlzIHVzZXMgYSBQcm9taXNlIHRvIGJsb2NrIHRoZSBweXRob24gc2lkZSBvbiBjb21wbGV0aW9uIG9mIGVhY2ggc3RlcCwKLy8gdGhlbiBwYXNzZXMgdGhlIHJlc3VsdCBvZiB0aGUgcHJldmlvdXMgc3RlcCBhcyB0aGUgaW5wdXQgdG8gdGhlIG5leHQgc3RlcC4KZnVuY3Rpb24gX3VwbG9hZEZpbGVzQ29udGludWUob3V0cHV0SWQpIHsKICBjb25zdCBvdXRwdXRFbGVtZW50ID0gZG9jdW1lbnQuZ2V0RWxlbWVudEJ5SWQob3V0cHV0SWQpOwogIGNvbnN0IHN0ZXBzID0gb3V0cHV0RWxlbWVudC5zdGVwczsKCiAgY29uc3QgbmV4dCA9IHN0ZXBzLm5leHQob3V0cHV0RWxlbWVudC5sYXN0UHJvbWlzZVZhbHVlKTsKICByZXR1cm4gUHJvbWlzZS5yZXNvbHZlKG5leHQudmFsdWUucHJvbWlzZSkudGhlbigodmFsdWUpID0+IHsKICAgIC8vIENhY2hlIHRoZSBsYXN0IHByb21pc2UgdmFsdWUgdG8gbWFrZSBpdCBhdmFpbGFibGUgdG8gdGhlIG5leHQKICAgIC8vIHN0ZXAgb2YgdGhlIGdlbmVyYXRvci4KICAgIG91dHB1dEVsZW1lbnQubGFzdFByb21pc2VWYWx1ZSA9IHZhbHVlOwogICAgcmV0dXJuIG5leHQudmFsdWUucmVzcG9uc2U7CiAgfSk7Cn0KCi8qKgogKiBHZW5lcmF0b3IgZnVuY3Rpb24gd2hpY2ggaXMgY2FsbGVkIGJldHdlZW4gZWFjaCBhc3luYyBzdGVwIG9mIHRoZSB1cGxvYWQKICogcHJvY2Vzcy4KICogQHBhcmFtIHtzdHJpbmd9IGlucHV0SWQgRWxlbWVudCBJRCBvZiB0aGUgaW5wdXQgZmlsZSBwaWNrZXIgZWxlbWVudC4KICogQHBhcmFtIHtzdHJpbmd9IG91dHB1dElkIEVsZW1lbnQgSUQgb2YgdGhlIG91dHB1dCBkaXNwbGF5LgogKiBAcmV0dXJuIHshSXRlcmFibGU8IU9iamVjdD59IEl0ZXJhYmxlIG9mIG5leHQgc3RlcHMuCiAqLwpmdW5jdGlvbiogdXBsb2FkRmlsZXNTdGVwKGlucHV0SWQsIG91dHB1dElkKSB7CiAgY29uc3QgaW5wdXRFbGVtZW50ID0gZG9jdW1lbnQuZ2V0RWxlbWVudEJ5SWQoaW5wdXRJZCk7CiAgaW5wdXRFbGVtZW50LmRpc2FibGVkID0gZmFsc2U7CgogIGNvbnN0IG91dHB1dEVsZW1lbnQgPSBkb2N1bWVudC5nZXRFbGVtZW50QnlJZChvdXRwdXRJZCk7CiAgb3V0cHV0RWxlbWVudC5pbm5lckhUTUwgPSAnJzsKCiAgY29uc3QgcGlja2VkUHJvbWlzZSA9IG5ldyBQcm9taXNlKChyZXNvbHZlKSA9PiB7CiAgICBpbnB1dEVsZW1lbnQuYWRkRXZlbnRMaXN0ZW5lcignY2hhbmdlJywgKGUpID0+IHsKICAgICAgcmVzb2x2ZShlLnRhcmdldC5maWxlcyk7CiAgICB9KTsKICB9KTsKCiAgY29uc3QgY2FuY2VsID0gZG9jdW1lbnQuY3JlYXRlRWxlbWVudCgnYnV0dG9uJyk7CiAgaW5wdXRFbGVtZW50LnBhcmVudEVsZW1lbnQuYXBwZW5kQ2hpbGQoY2FuY2VsKTsKICBjYW5jZWwudGV4dENvbnRlbnQgPSAnQ2FuY2VsIHVwbG9hZCc7CiAgY29uc3QgY2FuY2VsUHJvbWlzZSA9IG5ldyBQcm9taXNlKChyZXNvbHZlKSA9PiB7CiAgICBjYW5jZWwub25jbGljayA9ICgpID0+IHsKICAgICAgcmVzb2x2ZShudWxsKTsKICAgIH07CiAgfSk7CgogIC8vIENhbmNlbCB1cGxvYWQgaWYgdXNlciBoYXNuJ3QgcGlja2VkIGFueXRoaW5nIGluIHRpbWVvdXQuCiAgY29uc3QgdGltZW91dFByb21pc2UgPSBuZXcgUHJvbWlzZSgocmVzb2x2ZSkgPT4gewogICAgc2V0VGltZW91dCgoKSA9PiB7CiAgICAgIHJlc29sdmUobnVsbCk7CiAgICB9LCBGSUxFX0NIQU5HRV9USU1FT1VUX01TKTsKICB9KTsKCiAgLy8gV2FpdCBmb3IgdGhlIHVzZXIgdG8gcGljayB0aGUgZmlsZXMuCiAgY29uc3QgZmlsZXMgPSB5aWVsZCB7CiAgICBwcm9taXNlOiBQcm9taXNlLnJhY2UoW3BpY2tlZFByb21pc2UsIHRpbWVvdXRQcm9taXNlLCBjYW5jZWxQcm9taXNlXSksCiAgICByZXNwb25zZTogewogICAgICBhY3Rpb246ICdzdGFydGluZycsCiAgICB9CiAgfTsKCiAgaWYgKCFmaWxlcykgewogICAgcmV0dXJuIHsKICAgICAgcmVzcG9uc2U6IHsKICAgICAgICBhY3Rpb246ICdjb21wbGV0ZScsCiAgICAgIH0KICAgIH07CiAgfQoKICBjYW5jZWwucmVtb3ZlKCk7CgogIC8vIERpc2FibGUgdGhlIGlucHV0IGVsZW1lbnQgc2luY2UgZnVydGhlciBwaWNrcyBhcmUgbm90IGFsbG93ZWQuCiAgaW5wdXRFbGVtZW50LmRpc2FibGVkID0gdHJ1ZTsKCiAgZm9yIChjb25zdCBmaWxlIG9mIGZpbGVzKSB7CiAgICBjb25zdCBsaSA9IGRvY3VtZW50LmNyZWF0ZUVsZW1lbnQoJ2xpJyk7CiAgICBsaS5hcHBlbmQoc3BhbihmaWxlLm5hbWUsIHtmb250V2VpZ2h0OiAnYm9sZCd9KSk7CiAgICBsaS5hcHBlbmQoc3BhbigKICAgICAgICBgKCR7ZmlsZS50eXBlIHx8ICduL2EnfSkgLSAke2ZpbGUuc2l6ZX0gYnl0ZXMsIGAgKwogICAgICAgIGBsYXN0IG1vZGlmaWVkOiAkewogICAgICAgICAgICBmaWxlLmxhc3RNb2RpZmllZERhdGUgPyBmaWxlLmxhc3RNb2RpZmllZERhdGUudG9Mb2NhbGVEYXRlU3RyaW5nKCkgOgogICAgICAgICAgICAgICAgICAgICAgICAgICAgICAgICAgICAnbi9hJ30gLSBgKSk7CiAgICBjb25zdCBwZXJjZW50ID0gc3BhbignMCUgZG9uZScpOwogICAgbGkuYXBwZW5kQ2hpbGQocGVyY2VudCk7CgogICAgb3V0cHV0RWxlbWVudC5hcHBlbmRDaGlsZChsaSk7CgogICAgY29uc3QgZmlsZURhdGFQcm9taXNlID0gbmV3IFByb21pc2UoKHJlc29sdmUpID0+IHsKICAgICAgY29uc3QgcmVhZGVyID0gbmV3IEZpbGVSZWFkZXIoKTsKICAgICAgcmVhZGVyLm9ubG9hZCA9IChlKSA9PiB7CiAgICAgICAgcmVzb2x2ZShlLnRhcmdldC5yZXN1bHQpOwogICAgICB9OwogICAgICByZWFkZXIucmVhZEFzQXJyYXlCdWZmZXIoZmlsZSk7CiAgICB9KTsKICAgIC8vIFdhaXQgZm9yIHRoZSBkYXRhIHRvIGJlIHJlYWR5LgogICAgbGV0IGZpbGVEYXRhID0geWllbGQgewogICAgICBwcm9taXNlOiBmaWxlRGF0YVByb21pc2UsCiAgICAgIHJlc3BvbnNlOiB7CiAgICAgICAgYWN0aW9uOiAnY29udGludWUnLAogICAgICB9CiAgICB9OwoKICAgIC8vIFVzZSBhIGNodW5rZWQgc2VuZGluZyB0byBhdm9pZCBtZXNzYWdlIHNpemUgbGltaXRzLiBTZWUgYi82MjExNTY2MC4KICAgIGxldCBwb3NpdGlvbiA9IDA7CiAgICB3aGlsZSAocG9zaXRpb24gPCBmaWxlRGF0YS5ieXRlTGVuZ3RoKSB7CiAgICAgIGNvbnN0IGxlbmd0aCA9IE1hdGgubWluKGZpbGVEYXRhLmJ5dGVMZW5ndGggLSBwb3NpdGlvbiwgTUFYX1BBWUxPQURfU0laRSk7CiAgICAgIGNvbnN0IGNodW5rID0gbmV3IFVpbnQ4QXJyYXkoZmlsZURhdGEsIHBvc2l0aW9uLCBsZW5ndGgpOwogICAgICBwb3NpdGlvbiArPSBsZW5ndGg7CgogICAgICBjb25zdCBiYXNlNjQgPSBidG9hKFN0cmluZy5mcm9tQ2hhckNvZGUuYXBwbHkobnVsbCwgY2h1bmspKTsKICAgICAgeWllbGQgewogICAgICAgIHJlc3BvbnNlOiB7CiAgICAgICAgICBhY3Rpb246ICdhcHBlbmQnLAogICAgICAgICAgZmlsZTogZmlsZS5uYW1lLAogICAgICAgICAgZGF0YTogYmFzZTY0LAogICAgICAgIH0sCiAgICAgIH07CiAgICAgIHBlcmNlbnQudGV4dENvbnRlbnQgPQogICAgICAgICAgYCR7TWF0aC5yb3VuZCgocG9zaXRpb24gLyBmaWxlRGF0YS5ieXRlTGVuZ3RoKSAqIDEwMCl9JSBkb25lYDsKICAgIH0KICB9CgogIC8vIEFsbCBkb25lLgogIHlpZWxkIHsKICAgIHJlc3BvbnNlOiB7CiAgICAgIGFjdGlvbjogJ2NvbXBsZXRlJywKICAgIH0KICB9Owp9CgpzY29wZS5nb29nbGUgPSBzY29wZS5nb29nbGUgfHwge307CnNjb3BlLmdvb2dsZS5jb2xhYiA9IHNjb3BlLmdvb2dsZS5jb2xhYiB8fCB7fTsKc2NvcGUuZ29vZ2xlLmNvbGFiLl9maWxlcyA9IHsKICBfdXBsb2FkRmlsZXMsCiAgX3VwbG9hZEZpbGVzQ29udGludWUsCn07Cn0pKHNlbGYpOwo=",
              "ok": true,
              "headers": [
                [
                  "content-type",
                  "application/javascript"
                ]
              ],
              "status": 200,
              "status_text": ""
            }
          },
          "base_uri": "https://localhost:8080/",
          "height": 88
        }
      },
      "source": [
        "files.upload()"
      ],
      "execution_count": 0,
      "outputs": [
        {
          "output_type": "display_data",
          "data": {
            "text/html": [
              "\n",
              "     <input type=\"file\" id=\"files-c2d2d8f5-ffc1-4801-b0b0-0c0c69ece780\" name=\"files[]\" multiple disabled />\n",
              "     <output id=\"result-c2d2d8f5-ffc1-4801-b0b0-0c0c69ece780\">\n",
              "      Upload widget is only available when the cell has been executed in the\n",
              "      current browser session. Please rerun this cell to enable.\n",
              "      </output>\n",
              "      <script src=\"/nbextensions/google.colab/files.js\"></script> "
            ],
            "text/plain": [
              "<IPython.core.display.HTML object>"
            ]
          },
          "metadata": {
            "tags": []
          }
        },
        {
          "output_type": "stream",
          "text": [
            "Saving kaggle.json to kaggle.json\n"
          ],
          "name": "stdout"
        },
        {
          "output_type": "execute_result",
          "data": {
            "text/plain": [
              "{'kaggle.json': b'{\"username\":\"jihenbouguerra\",\"key\":\"657701b0b6c05ca568ee44edbb73729e\"}'}"
            ]
          },
          "metadata": {
            "tags": []
          },
          "execution_count": 3
        }
      ]
    },
    {
      "cell_type": "code",
      "metadata": {
        "id": "KbqjLuDJBkVK",
        "colab_type": "code",
        "colab": {}
      },
      "source": [
        "!cp kaggle.json ~/.kaggle/"
      ],
      "execution_count": 0,
      "outputs": []
    },
    {
      "cell_type": "code",
      "metadata": {
        "id": "lle3EDEdChcg",
        "colab_type": "code",
        "colab": {}
      },
      "source": [
        "!chmod 600 ~/.kaggle/kaggle.json"
      ],
      "execution_count": 0,
      "outputs": []
    },
    {
      "cell_type": "code",
      "metadata": {
        "id": "blksYtfaCmSu",
        "colab_type": "code",
        "outputId": "43be3f58-3bcd-4480-a7a3-af2825d833f7",
        "colab": {
          "base_uri": "https://localhost:8080/",
          "height": 326
        }
      },
      "source": [
        "!kaggle competitions download -c ashrae-energy-prediction"
      ],
      "execution_count": 0,
      "outputs": [
        {
          "output_type": "stream",
          "text": [
            "Warning: Looks like you're using an outdated API Version, please consider updating (server 1.5.6 / client 1.5.4)\n",
            "Downloading weather_test.csv.zip to /content\n",
            "  0% 0.00/2.53M [00:00<?, ?B/s]\n",
            "100% 2.53M/2.53M [00:00<00:00, 85.1MB/s]\n",
            "Downloading test.csv.zip to /content\n",
            " 98% 163M/167M [00:02<00:00, 54.6MB/s]\n",
            "100% 167M/167M [00:02<00:00, 69.4MB/s]\n",
            "Downloading weather_train.csv.zip to /content\n",
            "  0% 0.00/1.27M [00:00<?, ?B/s]\n",
            "100% 1.27M/1.27M [00:00<00:00, 182MB/s]\n",
            "Downloading building_metadata.csv to /content\n",
            "  0% 0.00/44.5k [00:00<?, ?B/s]\n",
            "100% 44.5k/44.5k [00:00<00:00, 39.3MB/s]\n",
            "Downloading sample_submission.csv.zip to /content\n",
            " 92% 81.0M/88.4M [00:00<00:00, 66.7MB/s]\n",
            "100% 88.4M/88.4M [00:00<00:00, 138MB/s] \n",
            "Downloading train.csv.zip to /content\n",
            " 90% 108M/120M [00:00<00:00, 164MB/s] \n",
            "100% 120M/120M [00:00<00:00, 176MB/s]\n"
          ],
          "name": "stdout"
        }
      ]
    },
    {
      "cell_type": "code",
      "metadata": {
        "id": "LWCScicxQEtj",
        "colab_type": "code",
        "colab": {}
      },
      "source": [
        ""
      ],
      "execution_count": 0,
      "outputs": []
    },
    {
      "cell_type": "code",
      "metadata": {
        "id": "zXNfUY84QVOj",
        "colab_type": "code",
        "outputId": "8f9e4d65-ea13-4b22-ca69-1be0ac227a4b",
        "colab": {
          "base_uri": "https://localhost:8080/",
          "height": 212
        }
      },
      "source": [
        "!unzip weather_train.csv.zip\n",
        "!unzip weather_test.csv.zip\n",
        "!unzip test.csv.zip\n",
        "!unzip train.csv.zip\n",
        "!unzip sample_submission.csv.zip"
      ],
      "execution_count": 0,
      "outputs": [
        {
          "output_type": "stream",
          "text": [
            "Archive:  weather_train.csv.zip\n",
            "  inflating: weather_train.csv       \n",
            "Archive:  weather_test.csv.zip\n",
            "  inflating: weather_test.csv        \n",
            "Archive:  test.csv.zip\n",
            "  inflating: test.csv                 (warning) cannot set modif./access times\n",
            "          No such file or directory\n",
            "Archive:  train.csv.zip\n",
            "  inflating: train.csv                (warning) cannot set modif./access times\n",
            "          No such file or directory\n",
            "Archive:  sample_submission.csv.zip\n",
            "  inflating: sample_submission.csv   \n"
          ],
          "name": "stdout"
        }
      ]
    },
    {
      "cell_type": "markdown",
      "metadata": {
        "id": "wEpYZ0uem2qp",
        "colab_type": "text"
      },
      "source": [
        "# Lest's start !!!!!\n",
        "\n",
        "*   Importing libraries \n",
        "\n",
        "\n"
      ]
    },
    {
      "cell_type": "code",
      "metadata": {
        "id": "9HUoapSnJmq8",
        "colab_type": "code",
        "outputId": "4559c2aa-480d-4a18-89ae-25a74a9283d3",
        "colab": {
          "base_uri": "https://localhost:8080/",
          "height": 17
        }
      },
      "source": [
        "import gc\n",
        "import os\n",
        "import random\n",
        "\n",
        "import lightgbm as lgb\n",
        "import numpy as np\n",
        "import pandas as pd\n",
        "import seaborn as sns\n",
        "from matplotlib import pyplot as plt\n",
        "from sklearn.metrics import mean_squared_error\n",
        "from sklearn.preprocessing import LabelEncoder\n",
        "from sklearn.model_selection import train_test_split,KFold,GroupKFold\n",
        "from sklearn.preprocessing import LabelEncoder\n",
        "import lightgbm as lgb\n",
        "\n",
        "from plotly.offline import init_notebook_mode,iplot,plot\n",
        "import plotly.graph_objects as go\n",
        "init_notebook_mode(connected=True)\n",
        "import plotly.figure_factory as ff"
      ],
      "execution_count": 0,
      "outputs": [
        {
          "output_type": "display_data",
          "data": {
            "text/html": [
              "        <script type=\"text/javascript\">\n",
              "        window.PlotlyConfig = {MathJaxConfig: 'local'};\n",
              "        if (window.MathJax) {MathJax.Hub.Config({SVG: {font: \"STIX-Web\"}});}\n",
              "        if (typeof require !== 'undefined') {\n",
              "        require.undef(\"plotly\");\n",
              "        requirejs.config({\n",
              "            paths: {\n",
              "                'plotly': ['https://cdn.plot.ly/plotly-latest.min']\n",
              "            }\n",
              "        });\n",
              "        require(['plotly'], function(Plotly) {\n",
              "            window._Plotly = Plotly;\n",
              "        });\n",
              "        }\n",
              "        </script>\n",
              "        "
            ]
          },
          "metadata": {
            "tags": []
          }
        }
      ]
    },
    {
      "cell_type": "markdown",
      "metadata": {
        "id": "CZoSUz_vOer6",
        "colab_type": "text"
      },
      "source": [
        "This method converts the feature type to reduce thr memory usage"
      ]
    },
    {
      "cell_type": "code",
      "metadata": {
        "id": "Og6T1rez31_P",
        "colab_type": "code",
        "colab": {}
      },
      "source": [
        "def reduce_mem_usage(df, verbose=True):\n",
        "    numerics = ['int16', 'int32', 'int64', 'float16', 'float32', 'float64']\n",
        "    start_mem = df.memory_usage().sum() / 1024**2    \n",
        "    for col in df.columns:\n",
        "        col_type = df[col].dtypes\n",
        "        if col_type in numerics:\n",
        "            c_min = df[col].min()\n",
        "            c_max = df[col].max()\n",
        "            if str(col_type)[:3] == 'int':\n",
        "                if c_min > np.iinfo(np.int8).min and c_max < np.iinfo(np.int8).max:\n",
        "                    df[col] = df[col].astype(np.int8)\n",
        "                elif c_min > np.iinfo(np.int16).min and c_max < np.iinfo(np.int16).max:\n",
        "                    df[col] = df[col].astype(np.int16)\n",
        "                elif c_min > np.iinfo(np.int32).min and c_max < np.iinfo(np.int32).max:\n",
        "                    df[col] = df[col].astype(np.int32)\n",
        "                elif c_min > np.iinfo(np.int64).min and c_max < np.iinfo(np.int64).max:\n",
        "                    df[col] = df[col].astype(np.int64)  \n",
        "            else:\n",
        "                if c_min > np.finfo(np.float16).min and c_max < np.finfo(np.float16).max:\n",
        "                    df[col] = df[col].astype(np.float16)\n",
        "                elif c_min > np.finfo(np.float32).min and c_max < np.finfo(np.float32).max:\n",
        "                    df[col] = df[col].astype(np.float32)\n",
        "                else:\n",
        "                    df[col] = df[col].astype(np.float64)    \n",
        "    end_mem = df.memory_usage().sum() / 1024**2\n",
        "    if verbose: print('Mem. usage decreased to {:5.2f} Mb ({:.1f}% reduction)'.format(end_mem, 100 * (start_mem - end_mem) / start_mem))\n",
        "    return df"
      ],
      "execution_count": 0,
      "outputs": []
    },
    {
      "cell_type": "markdown",
      "metadata": {
        "id": "Z_sScCuTnpZJ",
        "colab_type": "text"
      },
      "source": [
        "# Reading the CSV files\n",
        " and keeping a copy   just in case (=P)"
      ]
    },
    {
      "cell_type": "code",
      "metadata": {
        "id": "JhLSlM2cFgXT",
        "colab_type": "code",
        "colab": {}
      },
      "source": [
        "df_train = pd.read_csv(\"data/train.csv\")\n",
        "df_test = pd.read_csv(\"data/test.csv\")\n",
        "df_weather_train = pd.read_csv(\"data/weather_train.csv\")\n",
        "df_weather_test = pd.read_csv(\"data/weather_test.csv\")\n",
        "df_metadata=pd.read_csv(\"data/building_metadata.csv\")"
      ],
      "execution_count": 0,
      "outputs": []
    },
    {
      "cell_type": "code",
      "metadata": {
        "id": "AgRLN0ra4ZYR",
        "colab_type": "code",
        "outputId": "d3b75b61-e8f0-48e8-cd61-6738353a5ca1",
        "colab": {
          "base_uri": "https://localhost:8080/",
          "height": 33
        }
      },
      "source": [
        "train = df_train.copy()\n",
        "test= df_test.copy() \n",
        "weather_train=df_weather_train.copy()\n",
        "weather_test =df_weather_test.copy()\n",
        "metadata=df_metadata.copy()\n",
        "gc.collect()"
      ],
      "execution_count": 0,
      "outputs": [
        {
          "output_type": "execute_result",
          "data": {
            "text/plain": [
              "243"
            ]
          },
          "metadata": {
            "tags": []
          },
          "execution_count": 110
        }
      ]
    },
    {
      "cell_type": "markdown",
      "metadata": {
        "id": "Ze10ylxLzgTt",
        "colab_type": "text"
      },
      "source": [
        "\n",
        "# Data visualisation\n",
        "\n",
        "\n",
        "*   Check the distribution of data using the distplot and the boxplot\n",
        "\n"
      ]
    },
    {
      "cell_type": "code",
      "metadata": {
        "id": "Dn-JcOV5qVyS",
        "colab_type": "code",
        "outputId": "801087ff-f15b-49d0-a56c-91be13873b7d",
        "colab": {
          "base_uri": "https://localhost:8080/",
          "height": 1000
        }
      },
      "source": [
        "#Distribution of train feature\n",
        "cols = ['air_temperature','cloud_coverage','dew_temperature','precip_depth_1_hr','sea_level_pressure','wind_speed']\n",
        "for ind,col in enumerate(weather_train[cols]):\n",
        "    plt.figure(ind)\n",
        "    sns.distplot(weather_train[col].dropna())"
      ],
      "execution_count": 0,
      "outputs": [
        {
          "output_type": "display_data",
          "data": {
            "image/png": "[encoded data removed]",
            "text/plain": [
              "<Figure size 432x288 with 1 Axes>"
            ]
          },
          "metadata": {
            "tags": []
          }
        },
        {
          "output_type": "display_data",
          "data": {
            "image/png": "[encoded data removed]",
            "text/plain": [
              "<Figure size 432x288 with 1 Axes>"
            ]
          },
          "metadata": {
            "tags": []
          }
        },
        {
          "output_type": "display_data",
          "data": {
            "image/png": "[encoded data removed]",
            "text/plain": [
              "<Figure size 432x288 with 1 Axes>"
            ]
          },
          "metadata": {
            "tags": []
          }
        },
        {
          "output_type": "display_data",
          "data": {
            "image/png": "[encoded data removed]",
            "text/plain": [
              "<Figure size 432x288 with 1 Axes>"
            ]
          },
          "metadata": {
            "tags": []
          }
        },
        {
          "output_type": "display_data",
          "data": {
            "image/png": "[encoded data removed]",
            "text/plain": [
              "<Figure size 432x288 with 1 Axes>"
            ]
          },
          "metadata": {
            "tags": []
          }
        },
        {
          "output_type": "display_data",
          "data": {
            "image/png": "[encoded data removed]",
            "text/plain": [
              "<Figure size 432x288 with 1 Axes>"
            ]
          },
          "metadata": {
            "tags": []
          }
        }
      ]
    },
    {
      "cell_type": "code",
      "metadata": {
        "id": "6hfBTeERtty_",
        "colab_type": "code",
        "outputId": "25a86ee2-931d-492e-aaa0-3977b90aa16c",
        "colab": {
          "base_uri": "https://localhost:8080/",
          "height": 1000
        }
      },
      "source": [
        "cols = ['air_temperature','cloud_coverage','dew_temperature','precip_depth_1_hr','sea_level_pressure','wind_speed']\n",
        "for ind,col in enumerate(weather_train[cols]):\n",
        "    plt.figure(ind)\n",
        "    sns.boxplot(weather_train[col].dropna())"
      ],
      "execution_count": 0,
      "outputs": [
        {
          "output_type": "display_data",
          "data": {
            "image/png": "[encoded data removed]",
            "text/plain": [
              "<Figure size 432x288 with 1 Axes>"
            ]
          },
          "metadata": {
            "tags": []
          }
        },
        {
          "output_type": "display_data",
          "data": {
            "image/png": "[encoded data removed]",
            "text/plain": [
              "<Figure size 432x288 with 1 Axes>"
            ]
          },
          "metadata": {
            "tags": []
          }
        },
        {
          "output_type": "display_data",
          "data": {
            "image/png": "[encoded data removed]",
            "text/plain": [
              "<Figure size 432x288 with 1 Axes>"
            ]
          },
          "metadata": {
            "tags": []
          }
        },
        {
          "output_type": "display_data",
          "data": {
            "image/png": "[encoded data removed]",
            "text/plain": [
              "<Figure size 432x288 with 1 Axes>"
            ]
          },
          "metadata": {
            "tags": []
          }
        },
        {
          "output_type": "display_data",
          "data": {
            "image/png": "[encoded data removed]",
            "text/plain": [
              "<Figure size 432x288 with 1 Axes>"
            ]
          },
          "metadata": {
            "tags": []
          }
        },
        {
          "output_type": "display_data",
          "data": {
            "image/png": "[encoded data removed]",
            "text/plain": [
              "<Figure size 432x288 with 1 Axes>"
            ]
          },
          "metadata": {
            "tags": []
          }
        }
      ]
    },
    {
      "cell_type": "markdown",
      "metadata": {
        "id": "FY-66rUStvqa",
        "colab_type": "text"
      },
      "source": [
        "# Conclusion\n",
        "\n",
        "*   Distribution of sea_level_pressure looks like a normal distribution.\n",
        "*   Lot of 0 values in precip_depth_1_hr variable.\n",
        "*   Wind_Speed distribution looks like positively skewed.\n",
        "*   Dew Temperature looks like a Negatively skewed distribution.\n",
        "*   Cloud_Coverage takes distinct values unlike these other variables."
      ]
    },
    {
      "cell_type": "markdown",
      "metadata": {
        "id": "mIig6zSgzuHY",
        "colab_type": "text"
      },
      "source": [
        "# Data cleaning + Preparation\n",
        "\n",
        "\n",
        "*   Fill missing values \n",
        "*   Add new date feature\n",
        "*   Reset index\n",
        "*   Reset types\n",
        "*   Merge Metadata building table + train table\n",
        "*   Merge train table +  weather train table\n",
        "*   Remove Rows with null values\n",
        "*   Check the correlated values\n",
        "*   Label encoder\n",
        "*   Fill numeric values with the mean value \n"
      ]
    },
    {
      "cell_type": "markdown",
      "metadata": {
        "id": "hUBKFUbNqe7G",
        "colab_type": "text"
      },
      "source": [
        "## Fill missing values \n",
        "## Add new date feature \n",
        "## Reset index for Fast Update\n",
        "\n",
        "\n",
        "\n"
      ]
    },
    {
      "cell_type": "code",
      "metadata": {
        "id": "-icV3a5ouoFW",
        "colab_type": "code",
        "colab": {}
      },
      "source": [
        "def fill_weather_dataset(weather_df):\n",
        "    \n",
        "    # Find Missing Dates\n",
        "    time_format = \"%Y-%m-%d %H:%M:%S\"\n",
        "\n",
        "    # Add new Features\n",
        "    weather_df[\"datetime\"] = pd.to_datetime(weather_df[\"timestamp\"])\n",
        "    weather_df[\"day\"] = weather_df[\"datetime\"].dt.day\n",
        "    weather_df[\"week\"] = weather_df[\"datetime\"].dt.week\n",
        "    weather_df[\"month\"] = weather_df[\"datetime\"].dt.month\n",
        "    \n",
        "    # Reset Index for Fast Update\n",
        "    weather_df = weather_df.set_index(['site_id','day','month'])\n",
        "\n",
        "    air_temperature_filler = pd.DataFrame(weather_df.groupby(['site_id','day','month'])['air_temperature'].mean(),columns=[\"air_temperature\"])\n",
        "    weather_df.update(air_temperature_filler,overwrite=False)\n",
        "\n",
        "    # Step 1\n",
        "    cloud_coverage_filler = weather_df.groupby(['site_id','day','month'])['cloud_coverage'].mean()\n",
        "    # Step 2\n",
        "    cloud_coverage_filler = pd.DataFrame(cloud_coverage_filler.fillna(method='ffill'),columns=[\"cloud_coverage\"])\n",
        "\n",
        "    weather_df.update(cloud_coverage_filler,overwrite=False)\n",
        "\n",
        "    due_temperature_filler = pd.DataFrame(weather_df.groupby(['site_id','day','month'])['dew_temperature'].mean(),columns=[\"dew_temperature\"])\n",
        "    weather_df.update(due_temperature_filler,overwrite=False)\n",
        "\n",
        "    # Step 1\n",
        "    sea_level_filler = weather_df.groupby(['site_id','day','month'])['sea_level_pressure'].mean()\n",
        "    # Step 2\n",
        "    sea_level_filler = pd.DataFrame(sea_level_filler.fillna(method='ffill'),columns=['sea_level_pressure'])\n",
        "\n",
        "    weather_df.update(sea_level_filler,overwrite=False)\n",
        "\n",
        "    wind_direction_filler =  pd.DataFrame(weather_df.groupby(['site_id','day','month'])['wind_direction'].mean(),columns=['wind_direction'])\n",
        "    weather_df.update(wind_direction_filler,overwrite=False)\n",
        "\n",
        "    wind_speed_filler =  pd.DataFrame(weather_df.groupby(['site_id','day','month'])['wind_speed'].mean(),columns=['wind_speed'])\n",
        "    weather_df.update(wind_speed_filler,overwrite=False)\n",
        "\n",
        "    # Step 1\n",
        "    precip_depth_filler = weather_df.groupby(['site_id','day','month'])['precip_depth_1_hr'].mean()\n",
        "    # Step 2\n",
        "    precip_depth_filler = pd.DataFrame(precip_depth_filler.fillna(method='ffill'),columns=['precip_depth_1_hr'])\n",
        "\n",
        "    weather_df.update(precip_depth_filler,overwrite=False)\n",
        "\n",
        "    weather_df = weather_df.reset_index()\n",
        "    weather_df = weather_df.drop(['datetime','day','week','month'],axis=1)\n",
        "    return weather_df"
      ],
      "execution_count": 0,
      "outputs": []
    },
    {
      "cell_type": "code",
      "metadata": {
        "id": "p0Db7czDu0FU",
        "colab_type": "code",
        "outputId": "2ad3ac01-de20-49aa-8ae7-d16d812ef322",
        "colab": {
          "base_uri": "https://localhost:8080/",
          "height": 82
        }
      },
      "source": [
        "weather_train = fill_weather_dataset(weather_train)\n",
        "weather_train.columns\n",
        "weather_test = fill_weather_dataset(weather_test)\n",
        "weather_test.columns\n"
      ],
      "execution_count": 0,
      "outputs": [
        {
          "output_type": "execute_result",
          "data": {
            "text/plain": [
              "Index(['site_id', 'timestamp', 'air_temperature', 'cloud_coverage',\n",
              "       'dew_temperature', 'precip_depth_1_hr', 'sea_level_pressure',\n",
              "       'wind_direction', 'wind_speed'],\n",
              "      dtype='object')"
            ]
          },
          "metadata": {
            "tags": []
          },
          "execution_count": 114
        }
      ]
    },
    {
      "cell_type": "code",
      "metadata": {
        "id": "UE2srWtDwCl2",
        "colab_type": "code",
        "colab": {}
      },
      "source": [
        "df= weather_train.copy()\n",
        "df['air_temperature'] = df['air_temperature'].astype('float32')\n",
        "df['cloud_coverage'] = df['cloud_coverage'].astype('float16')\n",
        "df['dew_temperature'] = df['dew_temperature'].astype('float16')\n",
        "df['precip_depth_1_hr'] = df['precip_depth_1_hr'].astype('float32')\n",
        "df['sea_level_pressure'] = df['sea_level_pressure'].astype('float32')\n",
        "df['wind_direction'] = df['wind_direction'].astype('float32')\n",
        "df['wind_speed'] = df['wind_speed'].astype('float16')\n",
        "weather_train= df.copy()\n",
        "df= weather_test.copy()\n",
        "df['air_temperature'] = df['air_temperature'].astype('float32')\n",
        "df['cloud_coverage'] = df['cloud_coverage'].astype('float16')\n",
        "df['dew_temperature'] = df['dew_temperature'].astype('float16')\n",
        "df['precip_depth_1_hr'] = df['precip_depth_1_hr'].astype('float32')\n",
        "df['sea_level_pressure'] = df['sea_level_pressure'].astype('float32')\n",
        "df['wind_direction'] = df['wind_direction'].astype('float32')\n",
        "df['wind_speed'] = df['wind_speed'].astype('float16')\n",
        "weather_test= df.copy()"
      ],
      "execution_count": 0,
      "outputs": []
    },
    {
      "cell_type": "code",
      "metadata": {
        "id": "reA0BvrcwvgZ",
        "colab_type": "code",
        "outputId": "bb209e11-3ab7-4723-d525-e22cacbf88ec",
        "colab": {
          "base_uri": "https://localhost:8080/",
          "height": 98
        }
      },
      "source": [
        "print (\"Training Data Shape {}\".format(train.shape))\n",
        "print (\"Testing Data Shape {}\".format(test.shape))\n",
        "train = pd.merge(train,metadata,on='building_id',how='left')\n",
        "test  = pd.merge(test,metadata,on='building_id',how='left')\n",
        "print (\"Training Data Shape {}\".format(train.shape))\n",
        "print (\"Testing Data Shape {}\".format(test.shape))\n",
        "gc.collect()"
      ],
      "execution_count": 0,
      "outputs": [
        {
          "output_type": "stream",
          "text": [
            "Training Data Shape (20216100, 4)\n",
            "Testing Data Shape (41697600, 4)\n",
            "Training Data Shape (20216100, 9)\n",
            "Testing Data Shape (41697600, 9)\n"
          ],
          "name": "stdout"
        },
        {
          "output_type": "execute_result",
          "data": {
            "text/plain": [
              "0"
            ]
          },
          "metadata": {
            "tags": []
          },
          "execution_count": 116
        }
      ]
    },
    {
      "cell_type": "markdown",
      "metadata": {
        "id": "t6i--STTrhlQ",
        "colab_type": "text"
      },
      "source": [
        "# Merge Metadata building table + train table\n",
        "# Merge Train table + Weather train table"
      ]
    },
    {
      "cell_type": "code",
      "metadata": {
        "id": "2xGBWOyIzGuN",
        "colab_type": "code",
        "outputId": "efa09f45-8685-4653-acc8-35dbb5839382",
        "colab": {
          "base_uri": "https://localhost:8080/",
          "height": 66
        }
      },
      "source": [
        "train = pd.merge(train,weather_train,on=['site_id','timestamp'],how='left')\n",
        "test  = pd.merge(test,weather_test,on=['site_id','timestamp'],how='left')\n",
        "print (\"Training Data Shape {}\".format(train.shape))\n",
        "print (\"Testing Data Shape {}\".format(test.shape))\n",
        "gc.collect()\n"
      ],
      "execution_count": 0,
      "outputs": [
        {
          "output_type": "stream",
          "text": [
            "Training Data Shape (20216100, 16)\n",
            "Testing Data Shape (41697600, 16)\n"
          ],
          "name": "stdout"
        },
        {
          "output_type": "execute_result",
          "data": {
            "text/plain": [
              "0"
            ]
          },
          "metadata": {
            "tags": []
          },
          "execution_count": 117
        }
      ]
    },
    {
      "cell_type": "code",
      "metadata": {
        "id": "6G7HIPLa6sNz",
        "colab_type": "code",
        "outputId": "8e9f3301-42aa-4630-bbac-5074aae1adff",
        "colab": {
          "base_uri": "https://localhost:8080/",
          "height": 115
        }
      },
      "source": [
        "d_types = {'building_id': np.int16,\n",
        "          'meter': np.int8,\n",
        "          'site_id': np.int8,\n",
        "          'primary_use': 'category',\n",
        "          'square_feet': np.int32,\n",
        "          'year_built': np.float16,\n",
        "          'floor_count': np.float16,\n",
        "          'air_temperature': np.float32,\n",
        "          # 'cloud_coverage': np.float16,\n",
        "          'dew_temperature': np.float32,\n",
        "          # 'precip_depth_1_hr': np.float16,\n",
        "          'sea_level_pressure': np.float32,\n",
        "          # 'wind_direction': np.float16,\n",
        "          'wind_speed': np.float32}\n",
        "\n",
        "for feature in d_types:\n",
        "    train[feature] = train[feature].astype(d_types[feature])\n",
        "    test[feature] = test[feature].astype(d_types[feature])\n",
        "    \n",
        "train[\"timestamp\"] = pd.to_datetime(train[\"timestamp\"])\n",
        "test[\"timestamp\"] = pd.to_datetime(test[\"timestamp\"])\n",
        "gc.collect();\n",
        "\n",
        "train.columns"
      ],
      "execution_count": 0,
      "outputs": [
        {
          "output_type": "execute_result",
          "data": {
            "text/plain": [
              "Index(['building_id', 'meter', 'timestamp', 'meter_reading', 'site_id',\n",
              "       'primary_use', 'square_feet', 'year_built', 'floor_count',\n",
              "       'air_temperature', 'cloud_coverage', 'dew_temperature',\n",
              "       'precip_depth_1_hr', 'sea_level_pressure', 'wind_direction',\n",
              "       'wind_speed'],\n",
              "      dtype='object')"
            ]
          },
          "metadata": {
            "tags": []
          },
          "execution_count": 118
        }
      ]
    },
    {
      "cell_type": "markdown",
      "metadata": {
        "id": "6g_zeaqZrvM2",
        "colab_type": "text"
      },
      "source": [
        "# Remove Rows with null values"
      ]
    },
    {
      "cell_type": "code",
      "metadata": {
        "id": "SMjCFsn4-OfM",
        "colab_type": "code",
        "outputId": "50215d3e-530c-4c00-fc04-659ed1352fad",
        "colab": {
          "base_uri": "https://localhost:8080/",
          "height": 131
        }
      },
      "source": [
        "idx_to_drop = list((train[(train['site_id'] == 0) & (train['timestamp'] < \"2016-05-21 00:00:00\")]).index)\n",
        "print (len(idx_to_drop))\n",
        "train.drop(idx_to_drop,axis='rows',inplace=True)\n",
        "\n",
        "idx_to_drop = list(train[(train['meter'] == \"Electricity\") & (train['meter_reading'] == 0)].index)\n",
        "print(len(idx_to_drop))\n",
        "train.drop(idx_to_drop,axis='rows',inplace=True)\n",
        "idx_to_drop = list((train[(train['building_id']==1099)&(train['meter_reading'] > 30000)&(train['meter'] == \"Steam\")]).index)\n",
        "print (len(idx_to_drop))\n",
        "train.drop(idx_to_drop,axis='rows',inplace=True)"
      ],
      "execution_count": 0,
      "outputs": [
        {
          "output_type": "stream",
          "text": [
            "392857\n"
          ],
          "name": "stdout"
        },
        {
          "output_type": "stream",
          "text": [
            "/usr/local/lib/python3.6/dist-packages/pandas/core/ops/__init__.py:1115: FutureWarning:\n",
            "\n",
            "elementwise comparison failed; returning scalar instead, but in the future will perform elementwise comparison\n",
            "\n"
          ],
          "name": "stderr"
        },
        {
          "output_type": "stream",
          "text": [
            "0\n",
            "0\n"
          ],
          "name": "stdout"
        }
      ]
    },
    {
      "cell_type": "code",
      "metadata": {
        "id": "lFSMeOWF-6a9",
        "colab_type": "code",
        "colab": {}
      },
      "source": [
        "train['meter_reading'] = np.log1p(train['meter_reading'])\n"
      ],
      "execution_count": 0,
      "outputs": []
    },
    {
      "cell_type": "markdown",
      "metadata": {
        "id": "fYD0E8Ers5bX",
        "colab_type": "text"
      },
      "source": [
        "# Label encoder"
      ]
    },
    {
      "cell_type": "code",
      "metadata": {
        "id": "6U1TKX5h_lEc",
        "colab_type": "code",
        "colab": {}
      },
      "source": [
        "\n",
        "le = LabelEncoder()\n",
        "\n",
        "train['meter']= le.fit_transform(train['meter']).astype(\"uint8\")\n",
        "test['meter']= le.fit_transform(test['meter']).astype(\"uint8\")\n",
        "train['primary_use']= le.fit_transform(train['primary_use']).astype(\"uint8\")\n",
        "test['primary_use']= le.fit_transform(test['primary_use']).astype(\"uint8\")"
      ],
      "execution_count": 0,
      "outputs": []
    },
    {
      "cell_type": "markdown",
      "metadata": {
        "id": "YHRjqmM4sqIe",
        "colab_type": "text"
      },
      "source": [
        "# Check the correlated values"
      ]
    },
    {
      "cell_type": "code",
      "metadata": {
        "id": "7gj8Q6wJBEUV",
        "colab_type": "code",
        "outputId": "bf1dc100-698e-4c2f-b1c4-2e3ae9fe75a1",
        "colab": {
          "base_uri": "https://localhost:8080/",
          "height": 498
        }
      },
      "source": [
        "# Let's check the correlation between the variables and eliminate the one's that have high correlation\n",
        "# Threshold for removing correlated variables\n",
        "threshold = 0.9\n",
        "\n",
        "# Absolute value correlation matrix\n",
        "corr_matrix = train.corr().abs()\n",
        "upper = corr_matrix.where(np.triu(np.ones(corr_matrix.shape), k=1).astype(np.bool))\n",
        "upper"
      ],
      "execution_count": 0,
      "outputs": [
        {
          "output_type": "execute_result",
          "data": {
            "text/html": [
              "<div>\n",
              "<style scoped>\n",
              "    .dataframe tbody tr th:only-of-type {\n",
              "        vertical-align: middle;\n",
              "    }\n",
              "\n",
              "    .dataframe tbody tr th {\n",
              "        vertical-align: top;\n",
              "    }\n",
              "\n",
              "    .dataframe thead th {\n",
              "        text-align: right;\n",
              "    }\n",
              "</style>\n",
              "<table border=\"1\" class=\"dataframe\">\n",
              "  <thead>\n",
              "    <tr style=\"text-align: right;\">\n",
              "      <th></th>\n",
              "      <th>building_id</th>\n",
              "      <th>meter</th>\n",
              "      <th>meter_reading</th>\n",
              "      <th>site_id</th>\n",
              "      <th>primary_use</th>\n",
              "      <th>square_feet</th>\n",
              "      <th>year_built</th>\n",
              "      <th>floor_count</th>\n",
              "      <th>air_temperature</th>\n",
              "      <th>cloud_coverage</th>\n",
              "      <th>dew_temperature</th>\n",
              "      <th>precip_depth_1_hr</th>\n",
              "      <th>sea_level_pressure</th>\n",
              "      <th>wind_direction</th>\n",
              "      <th>wind_speed</th>\n",
              "    </tr>\n",
              "  </thead>\n",
              "  <tbody>\n",
              "    <tr>\n",
              "      <th>building_id</th>\n",
              "      <td>NaN</td>\n",
              "      <td>0.209164</td>\n",
              "      <td>0.076379</td>\n",
              "      <td>0.980292</td>\n",
              "      <td>0.068045</td>\n",
              "      <td>0.084392</td>\n",
              "      <td>0.206786</td>\n",
              "      <td>0.348353</td>\n",
              "      <td>0.313025</td>\n",
              "      <td>0.143564</td>\n",
              "      <td>0.096365</td>\n",
              "      <td>0.088082</td>\n",
              "      <td>0.089607</td>\n",
              "      <td>0.046686</td>\n",
              "      <td>0.008138</td>\n",
              "    </tr>\n",
              "    <tr>\n",
              "      <th>meter</th>\n",
              "      <td>NaN</td>\n",
              "      <td>NaN</td>\n",
              "      <td>0.041417</td>\n",
              "      <td>0.242600</td>\n",
              "      <td>0.079594</td>\n",
              "      <td>0.132254</td>\n",
              "      <td>0.017342</td>\n",
              "      <td>0.176926</td>\n",
              "      <td>0.007746</td>\n",
              "      <td>0.134420</td>\n",
              "      <td>0.075971</td>\n",
              "      <td>0.018892</td>\n",
              "      <td>0.039250</td>\n",
              "      <td>0.025739</td>\n",
              "      <td>0.080740</td>\n",
              "    </tr>\n",
              "    <tr>\n",
              "      <th>meter_reading</th>\n",
              "      <td>NaN</td>\n",
              "      <td>NaN</td>\n",
              "      <td>NaN</td>\n",
              "      <td>0.096360</td>\n",
              "      <td>0.055871</td>\n",
              "      <td>0.376335</td>\n",
              "      <td>0.197650</td>\n",
              "      <td>0.342052</td>\n",
              "      <td>0.004755</td>\n",
              "      <td>0.014194</td>\n",
              "      <td>0.023413</td>\n",
              "      <td>0.013098</td>\n",
              "      <td>0.011381</td>\n",
              "      <td>0.016991</td>\n",
              "      <td>0.029325</td>\n",
              "    </tr>\n",
              "    <tr>\n",
              "      <th>site_id</th>\n",
              "      <td>NaN</td>\n",
              "      <td>NaN</td>\n",
              "      <td>NaN</td>\n",
              "      <td>NaN</td>\n",
              "      <td>0.086547</td>\n",
              "      <td>0.088052</td>\n",
              "      <td>0.175358</td>\n",
              "      <td>0.336626</td>\n",
              "      <td>0.305147</td>\n",
              "      <td>0.109223</td>\n",
              "      <td>0.123464</td>\n",
              "      <td>0.086733</td>\n",
              "      <td>0.070980</td>\n",
              "      <td>0.049433</td>\n",
              "      <td>0.015841</td>\n",
              "    </tr>\n",
              "    <tr>\n",
              "      <th>primary_use</th>\n",
              "      <td>NaN</td>\n",
              "      <td>NaN</td>\n",
              "      <td>NaN</td>\n",
              "      <td>NaN</td>\n",
              "      <td>NaN</td>\n",
              "      <td>0.090409</td>\n",
              "      <td>0.052822</td>\n",
              "      <td>0.213936</td>\n",
              "      <td>0.045337</td>\n",
              "      <td>0.131355</td>\n",
              "      <td>0.015790</td>\n",
              "      <td>0.019882</td>\n",
              "      <td>0.037005</td>\n",
              "      <td>0.025193</td>\n",
              "      <td>0.052997</td>\n",
              "    </tr>\n",
              "    <tr>\n",
              "      <th>square_feet</th>\n",
              "      <td>NaN</td>\n",
              "      <td>NaN</td>\n",
              "      <td>NaN</td>\n",
              "      <td>NaN</td>\n",
              "      <td>NaN</td>\n",
              "      <td>NaN</td>\n",
              "      <td>0.147862</td>\n",
              "      <td>0.584495</td>\n",
              "      <td>0.014549</td>\n",
              "      <td>0.038775</td>\n",
              "      <td>0.021906</td>\n",
              "      <td>0.036118</td>\n",
              "      <td>0.012909</td>\n",
              "      <td>0.017812</td>\n",
              "      <td>0.035241</td>\n",
              "    </tr>\n",
              "    <tr>\n",
              "      <th>year_built</th>\n",
              "      <td>NaN</td>\n",
              "      <td>NaN</td>\n",
              "      <td>NaN</td>\n",
              "      <td>NaN</td>\n",
              "      <td>NaN</td>\n",
              "      <td>NaN</td>\n",
              "      <td>NaN</td>\n",
              "      <td>0.147381</td>\n",
              "      <td>0.167201</td>\n",
              "      <td>0.077240</td>\n",
              "      <td>0.095199</td>\n",
              "      <td>0.021107</td>\n",
              "      <td>0.028277</td>\n",
              "      <td>0.063277</td>\n",
              "      <td>0.049114</td>\n",
              "    </tr>\n",
              "    <tr>\n",
              "      <th>floor_count</th>\n",
              "      <td>NaN</td>\n",
              "      <td>NaN</td>\n",
              "      <td>NaN</td>\n",
              "      <td>NaN</td>\n",
              "      <td>NaN</td>\n",
              "      <td>NaN</td>\n",
              "      <td>NaN</td>\n",
              "      <td>NaN</td>\n",
              "      <td>0.184021</td>\n",
              "      <td>0.214326</td>\n",
              "      <td>0.174789</td>\n",
              "      <td>0.140502</td>\n",
              "      <td>0.003962</td>\n",
              "      <td>0.074262</td>\n",
              "      <td>0.020472</td>\n",
              "    </tr>\n",
              "    <tr>\n",
              "      <th>air_temperature</th>\n",
              "      <td>NaN</td>\n",
              "      <td>NaN</td>\n",
              "      <td>NaN</td>\n",
              "      <td>NaN</td>\n",
              "      <td>NaN</td>\n",
              "      <td>NaN</td>\n",
              "      <td>NaN</td>\n",
              "      <td>NaN</td>\n",
              "      <td>NaN</td>\n",
              "      <td>0.001965</td>\n",
              "      <td>0.750891</td>\n",
              "      <td>0.004255</td>\n",
              "      <td>0.304421</td>\n",
              "      <td>0.106697</td>\n",
              "      <td>0.086288</td>\n",
              "    </tr>\n",
              "    <tr>\n",
              "      <th>cloud_coverage</th>\n",
              "      <td>NaN</td>\n",
              "      <td>NaN</td>\n",
              "      <td>NaN</td>\n",
              "      <td>NaN</td>\n",
              "      <td>NaN</td>\n",
              "      <td>NaN</td>\n",
              "      <td>NaN</td>\n",
              "      <td>NaN</td>\n",
              "      <td>NaN</td>\n",
              "      <td>NaN</td>\n",
              "      <td>0.072797</td>\n",
              "      <td>0.045830</td>\n",
              "      <td>0.110430</td>\n",
              "      <td>0.013562</td>\n",
              "      <td>0.176253</td>\n",
              "    </tr>\n",
              "    <tr>\n",
              "      <th>dew_temperature</th>\n",
              "      <td>NaN</td>\n",
              "      <td>NaN</td>\n",
              "      <td>NaN</td>\n",
              "      <td>NaN</td>\n",
              "      <td>NaN</td>\n",
              "      <td>NaN</td>\n",
              "      <td>NaN</td>\n",
              "      <td>NaN</td>\n",
              "      <td>NaN</td>\n",
              "      <td>NaN</td>\n",
              "      <td>NaN</td>\n",
              "      <td>0.075263</td>\n",
              "      <td>0.220381</td>\n",
              "      <td>0.179202</td>\n",
              "      <td>0.144413</td>\n",
              "    </tr>\n",
              "    <tr>\n",
              "      <th>precip_depth_1_hr</th>\n",
              "      <td>NaN</td>\n",
              "      <td>NaN</td>\n",
              "      <td>NaN</td>\n",
              "      <td>NaN</td>\n",
              "      <td>NaN</td>\n",
              "      <td>NaN</td>\n",
              "      <td>NaN</td>\n",
              "      <td>NaN</td>\n",
              "      <td>NaN</td>\n",
              "      <td>NaN</td>\n",
              "      <td>NaN</td>\n",
              "      <td>NaN</td>\n",
              "      <td>0.038579</td>\n",
              "      <td>0.005985</td>\n",
              "      <td>0.026457</td>\n",
              "    </tr>\n",
              "    <tr>\n",
              "      <th>sea_level_pressure</th>\n",
              "      <td>NaN</td>\n",
              "      <td>NaN</td>\n",
              "      <td>NaN</td>\n",
              "      <td>NaN</td>\n",
              "      <td>NaN</td>\n",
              "      <td>NaN</td>\n",
              "      <td>NaN</td>\n",
              "      <td>NaN</td>\n",
              "      <td>NaN</td>\n",
              "      <td>NaN</td>\n",
              "      <td>NaN</td>\n",
              "      <td>NaN</td>\n",
              "      <td>NaN</td>\n",
              "      <td>0.100383</td>\n",
              "      <td>0.208343</td>\n",
              "    </tr>\n",
              "    <tr>\n",
              "      <th>wind_direction</th>\n",
              "      <td>NaN</td>\n",
              "      <td>NaN</td>\n",
              "      <td>NaN</td>\n",
              "      <td>NaN</td>\n",
              "      <td>NaN</td>\n",
              "      <td>NaN</td>\n",
              "      <td>NaN</td>\n",
              "      <td>NaN</td>\n",
              "      <td>NaN</td>\n",
              "      <td>NaN</td>\n",
              "      <td>NaN</td>\n",
              "      <td>NaN</td>\n",
              "      <td>NaN</td>\n",
              "      <td>NaN</td>\n",
              "      <td>0.431636</td>\n",
              "    </tr>\n",
              "    <tr>\n",
              "      <th>wind_speed</th>\n",
              "      <td>NaN</td>\n",
              "      <td>NaN</td>\n",
              "      <td>NaN</td>\n",
              "      <td>NaN</td>\n",
              "      <td>NaN</td>\n",
              "      <td>NaN</td>\n",
              "      <td>NaN</td>\n",
              "      <td>NaN</td>\n",
              "      <td>NaN</td>\n",
              "      <td>NaN</td>\n",
              "      <td>NaN</td>\n",
              "      <td>NaN</td>\n",
              "      <td>NaN</td>\n",
              "      <td>NaN</td>\n",
              "      <td>NaN</td>\n",
              "    </tr>\n",
              "  </tbody>\n",
              "</table>\n",
              "</div>"
            ],
            "text/plain": [
              "                    building_id     meter  ...  wind_direction  wind_speed\n",
              "building_id                 NaN  0.209164  ...        0.046686    0.008138\n",
              "meter                       NaN       NaN  ...        0.025739    0.080740\n",
              "meter_reading               NaN       NaN  ...        0.016991    0.029325\n",
              "site_id                     NaN       NaN  ...        0.049433    0.015841\n",
              "primary_use                 NaN       NaN  ...        0.025193    0.052997\n",
              "square_feet                 NaN       NaN  ...        0.017812    0.035241\n",
              "year_built                  NaN       NaN  ...        0.063277    0.049114\n",
              "floor_count                 NaN       NaN  ...        0.074262    0.020472\n",
              "air_temperature             NaN       NaN  ...        0.106697    0.086288\n",
              "cloud_coverage              NaN       NaN  ...        0.013562    0.176253\n",
              "dew_temperature             NaN       NaN  ...        0.179202    0.144413\n",
              "precip_depth_1_hr           NaN       NaN  ...        0.005985    0.026457\n",
              "sea_level_pressure          NaN       NaN  ...        0.100383    0.208343\n",
              "wind_direction              NaN       NaN  ...             NaN    0.431636\n",
              "wind_speed                  NaN       NaN  ...             NaN         NaN\n",
              "\n",
              "[15 rows x 15 columns]"
            ]
          },
          "metadata": {
            "tags": []
          },
          "execution_count": 122
        }
      ]
    },
    {
      "cell_type": "code",
      "metadata": {
        "id": "QEwpXiWMBEPc",
        "colab_type": "code",
        "outputId": "66fcc5ab-5f37-469e-8f1a-e0cd1ba0c9db",
        "colab": {
          "base_uri": "https://localhost:8080/",
          "height": 50
        }
      },
      "source": [
        "# Select columns with correlations above threshold\n",
        "to_drop = [column for column in upper.columns if any(upper[column] > threshold)]\n",
        "\n",
        "print('There are %d columns to remove.' % (len(to_drop)))\n",
        "print (\"Following columns can be dropped {}\".format(to_drop))\n",
        "\n",
        "train.drop(to_drop,axis=1,inplace=True)\n",
        "test.drop(to_drop,axis=1,inplace=True)\n",
        "#test_row_id= test[\"row_id\"]\n",
        "#test.drop(\"row_id\",axis=1,inplace=True)"
      ],
      "execution_count": 0,
      "outputs": [
        {
          "output_type": "stream",
          "text": [
            "There are 1 columns to remove.\n",
            "Following columns can be dropped ['site_id']\n"
          ],
          "name": "stdout"
        }
      ]
    },
    {
      "cell_type": "code",
      "metadata": {
        "id": "Ru4kjJueJUUi",
        "colab_type": "code",
        "outputId": "d5f316fd-6f2f-4a2b-e91a-9071490e7425",
        "colab": {
          "base_uri": "https://localhost:8080/",
          "height": 277
        }
      },
      "source": [
        "print (train.isnull().sum())"
      ],
      "execution_count": 0,
      "outputs": [
        {
          "output_type": "stream",
          "text": [
            "building_id                  0\n",
            "meter                        0\n",
            "timestamp                    0\n",
            "meter_reading                0\n",
            "primary_use                  0\n",
            "square_feet                  0\n",
            "year_built            12127645\n",
            "floor_count           16316310\n",
            "air_temperature          90495\n",
            "cloud_coverage           90495\n",
            "dew_temperature          90495\n",
            "precip_depth_1_hr        90495\n",
            "sea_level_pressure       90495\n",
            "wind_direction           90495\n",
            "wind_speed               90495\n",
            "dtype: int64\n"
          ],
          "name": "stdout"
        }
      ]
    },
    {
      "cell_type": "markdown",
      "metadata": {
        "id": "IQgMAQ2ytx3k",
        "colab_type": "text"
      },
      "source": [
        "#  Fill numeric values with the mean value "
      ]
    },
    {
      "cell_type": "code",
      "metadata": {
        "id": "wsB2tMp7DK-S",
        "colab_type": "code",
        "outputId": "8ae54289-1c0f-4940-89ef-607bb67e810d",
        "colab": {
          "base_uri": "https://localhost:8080/",
          "height": 667
        }
      },
      "source": [
        "train['air_temperature'].fillna(train['air_temperature'].mean(), inplace=True)\n",
        "train['dew_temperature'].fillna(train['dew_temperature'].mean(), inplace=True)\n",
        "train['wind_speed'].fillna(train['wind_speed'].mean(), inplace=True)\n",
        "train['precip_depth_1_hr'].fillna(method='bfill', inplace=True)\n",
        "train['wind_direction'].fillna(method='ffill', inplace=True)\n",
        "train['sea_level_pressure'].fillna(method='ffill', inplace=True)\n",
        "train['month'] = train['timestamp'].dt.month\n",
        "train['day'] = train['timestamp'].dt.weekday\n",
        "train['hour'] = train['timestamp'].dt.hour\n",
        "train['weekend'] = np.where((train['day'] == 5) | (train['day'] == 6), 1, 0)\n",
        "\n",
        "gc.collect()\n",
        "print (train.isnull().sum())\n",
        "\n",
        "train.dtypes\n"
      ],
      "execution_count": 0,
      "outputs": [
        {
          "output_type": "stream",
          "text": [
            "building_id                  0\n",
            "meter                        0\n",
            "timestamp                    0\n",
            "meter_reading                0\n",
            "primary_use                  0\n",
            "square_feet                  0\n",
            "year_built            12127645\n",
            "floor_count           16316310\n",
            "air_temperature              0\n",
            "cloud_coverage           90495\n",
            "dew_temperature              0\n",
            "precip_depth_1_hr            0\n",
            "sea_level_pressure           0\n",
            "wind_direction               0\n",
            "wind_speed                   0\n",
            "month                        0\n",
            "day                          0\n",
            "hour                         0\n",
            "weekend                      0\n",
            "dtype: int64\n"
          ],
          "name": "stdout"
        },
        {
          "output_type": "execute_result",
          "data": {
            "text/plain": [
              "building_id                    int16\n",
              "meter                          uint8\n",
              "timestamp             datetime64[ns]\n",
              "meter_reading                float64\n",
              "primary_use                    uint8\n",
              "square_feet                    int32\n",
              "year_built                   float16\n",
              "floor_count                  float16\n",
              "air_temperature              float32\n",
              "cloud_coverage               float16\n",
              "dew_temperature              float32\n",
              "precip_depth_1_hr            float32\n",
              "sea_level_pressure           float32\n",
              "wind_direction               float32\n",
              "wind_speed                   float32\n",
              "month                          int64\n",
              "day                            int64\n",
              "hour                           int64\n",
              "weekend                        int64\n",
              "dtype: object"
            ]
          },
          "metadata": {
            "tags": []
          },
          "execution_count": 125
        }
      ]
    },
    {
      "cell_type": "code",
      "metadata": {
        "id": "ISr1-lN9BfrT",
        "colab_type": "code",
        "colab": {}
      },
      "source": [
        "y = train['meter_reading']\n",
        "train.drop(['meter_reading','floor_count'],axis=1,inplace=True)\n"
      ],
      "execution_count": 0,
      "outputs": []
    },
    {
      "cell_type": "code",
      "metadata": {
        "id": "QE5ddH93DCry",
        "colab_type": "code",
        "outputId": "efd04c4e-4a19-4e18-e7a3-aaceecfac197",
        "colab": {
          "base_uri": "https://localhost:8080/",
          "height": 98
        }
      },
      "source": [
        "train.columns\n"
      ],
      "execution_count": 0,
      "outputs": [
        {
          "output_type": "execute_result",
          "data": {
            "text/plain": [
              "Index(['building_id', 'meter', 'timestamp', 'primary_use', 'square_feet',\n",
              "       'year_built', 'air_temperature', 'cloud_coverage', 'dew_temperature',\n",
              "       'precip_depth_1_hr', 'sea_level_pressure', 'wind_direction',\n",
              "       'wind_speed', 'month', 'day', 'hour', 'weekend'],\n",
              "      dtype='object')"
            ]
          },
          "metadata": {
            "tags": []
          },
          "execution_count": 127
        }
      ]
    },
    {
      "cell_type": "code",
      "metadata": {
        "id": "L8eHc1OYCvSF",
        "colab_type": "code",
        "outputId": "4e8671f2-16dc-406b-b3a8-48a8555470d8",
        "colab": {
          "base_uri": "https://localhost:8080/",
          "height": 66
        }
      },
      "source": [
        "print(train.shape, df_train.shape)\n",
        "print(test.shape, df_test.shape)\n",
        "print( y.shape)\n",
        "submission=pd.read_csv(\"data/sample_submission.csv\")"
      ],
      "execution_count": 0,
      "outputs": [
        {
          "output_type": "stream",
          "text": [
            "(19823243, 17) (20216100, 4)\n",
            "(41697600, 15) (41697600, 4)\n",
            "(19823243,)\n"
          ],
          "name": "stdout"
        }
      ]
    },
    {
      "cell_type": "code",
      "metadata": {
        "id": "XS5c0BsFnd6a",
        "colab_type": "code",
        "outputId": "9d7fd8ec-e650-47e9-d145-bc4be115c4eb",
        "colab": {
          "base_uri": "https://localhost:8080/",
          "height": 33
        }
      },
      "source": [
        "print(submission.shape)\n"
      ],
      "execution_count": 0,
      "outputs": [
        {
          "output_type": "stream",
          "text": [
            "(41697600, 2)\n"
          ],
          "name": "stdout"
        }
      ]
    },
    {
      "cell_type": "code",
      "metadata": {
        "id": "PGRxQJEJnzTu",
        "colab_type": "code",
        "outputId": "3dcdfe65-6900-4eb0-f113-f053a6a4ddd1",
        "colab": {
          "base_uri": "https://localhost:8080/",
          "height": 407
        }
      },
      "source": [
        "print(test.columns)\n",
        "\n",
        "print(train.columns)\n",
        "\n",
        "\n",
        "categoricals = [\"building_id\",\"primary_use\", \"meter\", \"month\", \"day\", \"hour\", \"weekend\"]\n",
        "\n",
        "\n",
        "\n",
        "numericals = [\"square_feet\", \"air_temperature\", \"dew_temperature\",\n",
        "              \"precip_depth_1_hr\", \"sea_level_pressure\", \"wind_direction\", \"wind_speed\"]\n",
        "\n",
        "features = categoricals + numericals\n",
        "\n",
        "for f in features:\n",
        "  print (f, train[f].isna().sum())\n",
        "X = train[features].values\n",
        "\n"
      ],
      "execution_count": 0,
      "outputs": [
        {
          "output_type": "stream",
          "text": [
            "Index(['row_id', 'building_id', 'meter', 'timestamp', 'primary_use',\n",
            "       'square_feet', 'year_built', 'floor_count', 'air_temperature',\n",
            "       'cloud_coverage', 'dew_temperature', 'precip_depth_1_hr',\n",
            "       'sea_level_pressure', 'wind_direction', 'wind_speed'],\n",
            "      dtype='object')\n",
            "Index(['building_id', 'meter', 'timestamp', 'primary_use', 'square_feet',\n",
            "       'year_built', 'air_temperature', 'cloud_coverage', 'dew_temperature',\n",
            "       'precip_depth_1_hr', 'sea_level_pressure', 'wind_direction',\n",
            "       'wind_speed', 'month', 'day', 'hour', 'weekend'],\n",
            "      dtype='object')\n",
            "building_id 0\n",
            "primary_use 0\n",
            "meter 0\n",
            "month 0\n",
            "day 0\n",
            "hour 0\n",
            "weekend 0\n",
            "square_feet 0\n",
            "air_temperature 0\n",
            "dew_temperature 0\n",
            "precip_depth_1_hr 0\n",
            "sea_level_pressure 0\n",
            "wind_direction 0\n",
            "wind_speed 0\n"
          ],
          "name": "stdout"
        }
      ]
    },
    {
      "cell_type": "code",
      "metadata": {
        "id": "8vYPWHA4wZ8r",
        "colab_type": "code",
        "outputId": "e88f8236-0747-4f6e-faae-a4e7629a62c9",
        "colab": {
          "base_uri": "https://localhost:8080/",
          "height": 50
        }
      },
      "source": [
        "print(y.shape)\n",
        "print(submission.shape, submission.columns)"
      ],
      "execution_count": 0,
      "outputs": [
        {
          "output_type": "stream",
          "text": [
            "(19823243,)\n",
            "(41697600, 2) Index(['row_id', 'meter_reading'], dtype='object')\n"
          ],
          "name": "stdout"
        }
      ]
    },
    {
      "cell_type": "code",
      "metadata": {
        "id": "5Q9Tcxly35Tu",
        "colab_type": "code",
        "outputId": "bc13b1e2-6aab-47a5-924f-bbf42177d3d3",
        "colab": {
          "base_uri": "https://localhost:8080/",
          "height": 115
        }
      },
      "source": [
        "train =reduce_mem_usage(train)\n",
        "test =reduce_mem_usage(test)\n",
        "df_test= reduce_mem_usage( df_test)\n",
        "\n",
        "submission= reduce_mem_usage(submission)\n",
        "df_train= reduce_mem_usage( df_train)\n",
        "\n",
        "gc.collect()"
      ],
      "execution_count": 0,
      "outputs": [
        {
          "output_type": "stream",
          "text": [
            "Mem. usage decreased to 831.82 Mb (47.6% reduction)\n",
            "Mem. usage decreased to 1829.23 Mb (25.8% reduction)\n",
            "Mem. usage decreased to 596.49 Mb (53.1% reduction)\n",
            "Mem. usage decreased to 198.83 Mb (68.7% reduction)\n",
            "Mem. usage decreased to 289.19 Mb (53.1% reduction)\n"
          ],
          "name": "stdout"
        },
        {
          "output_type": "execute_result",
          "data": {
            "text/plain": [
              "684"
            ]
          },
          "metadata": {
            "tags": []
          },
          "execution_count": 134
        }
      ]
    },
    {
      "cell_type": "code",
      "metadata": {
        "id": "fAmc92J2967x",
        "colab_type": "code",
        "outputId": "e8a715c0-dbc5-4d7a-d2c1-6c63bb30fd5e",
        "colab": {
          "base_uri": "https://localhost:8080/",
          "height": 61
        }
      },
      "source": [
        "from sklearn.model_selection import train_test_split\n",
        "from sklearn.model_selection import RandomizedSearchCV, GridSearchCV\n",
        "from tensorflow.keras.wrappers.scikit_learn import KerasRegressor\n",
        "from tensorflow.keras.layers import Dense, Dropout, BatchNormalization\n",
        "from tensorflow.keras.optimizers import Adam, RMSprop\n",
        "from tensorflow.keras import Sequential\n",
        "from tensorflow.keras import backend as K"
      ],
      "execution_count": 0,
      "outputs": [
        {
          "output_type": "display_data",
          "data": {
            "text/html": [
              "<p style=\"color: red;\">\n",
              "The default version of TensorFlow in Colab will soon switch to TensorFlow 2.x.<br>\n",
              "We recommend you <a href=\"https://www.tensorflow.org/guide/migrate\" target=\"_blank\">upgrade</a> now \n",
              "or ensure your notebook will continue to use TensorFlow 1.x via the <code>%tensorflow_version 1.x</code> magic:\n",
              "<a href=\"https://colab.research.google.com/notebooks/tensorflow_version.ipynb\" target=\"_blank\">more info</a>.</p>\n"
            ],
            "text/plain": [
              "<IPython.core.display.HTML object>"
            ]
          },
          "metadata": {
            "tags": []
          }
        }
      ]
    },
    {
      "cell_type": "markdown",
      "metadata": {
        "id": "ZTCzJOm2u8_F",
        "colab_type": "text"
      },
      "source": [
        "# Model design \n",
        "\n",
        "* Split data test and train data \n",
        "* Create lmodel \n",
        "* Run model"
      ]
    },
    {
      "cell_type": "code",
      "metadata": {
        "id": "gRLAHhZf9_3m",
        "colab_type": "code",
        "outputId": "8619f501-4cc9-467a-d6ca-7ef0b627e7f3",
        "colab": {
          "base_uri": "https://localhost:8080/",
          "height": 33
        }
      },
      "source": [
        "X_train, X_test, y_train, y_test = train_test_split(X, y, test_size=0.25, random_state=42)\n",
        "\n",
        "print(X_test.shape, X_train.shape, y_test.shape, y_train.shape)"
      ],
      "execution_count": 0,
      "outputs": [
        {
          "output_type": "stream",
          "text": [
            "(4955811, 14) (14867432, 14) (4955811,) (14867432,)\n"
          ],
          "name": "stdout"
        }
      ]
    },
    {
      "cell_type": "code",
      "metadata": {
        "id": "NgBRlha4-LAy",
        "colab_type": "code",
        "colab": {}
      },
      "source": [
        "def root_mean_squared_error(y_true, y_pred):\n",
        "    return K.sqrt(K.mean(K.square(y_pred - y_true), axis=0))\n",
        "\n",
        "def create_model(dense_layer_sizes, optimizer=\"adam\", dropout=0.1, init='uniform', nbr_features=14, dense_nparams=256, lr=0.001):\n",
        "    model = Sequential()\n",
        "    model.add(Dense(dense_nparams, activation='relu', input_shape=(nbr_features,), kernel_initializer=init,)) \n",
        "    model.add(BatchNormalization())\n",
        "    model.add(Dropout(dropout), )\n",
        "    for layer_size in dense_layer_sizes:\n",
        "        model.add(Dense(layer_size, activation='relu'))\n",
        "        model.add(BatchNormalization())\n",
        "        model.add(Dropout(dropout), )\n",
        "    model.add(Dense(1, activation='relu'))\n",
        "    opt = Adam(lr)\n",
        "    model.compile(loss='mse', optimizer=opt, metrics=[root_mean_squared_error])\n",
        "    return model"
      ],
      "execution_count": 0,
      "outputs": []
    },
    {
      "cell_type": "code",
      "metadata": {
        "id": "JWjtPQHI-Qvp",
        "colab_type": "code",
        "colab": {}
      },
      "source": [
        "model = create_model(dense_layer_sizes=[ 256,128, 64, 32], dropout=0.2, dense_nparams=512)"
      ],
      "execution_count": 0,
      "outputs": []
    },
    {
      "cell_type": "code",
      "metadata": {
        "id": "_nj0GNXx-aWV",
        "colab_type": "code",
        "outputId": "a91c996e-c4af-4951-f593-7e2472ff7be8",
        "colab": {
          "base_uri": "https://localhost:8080/",
          "height": 1000
        }
      },
      "source": [
        "hist = model.fit(X_train, y_train, epochs=32, batch_size=8192)"
      ],
      "execution_count": 0,
      "outputs": [
        {
          "output_type": "stream",
          "text": [
            "Train on 14867432 samples\n",
            "Epoch 1/32\n",
            "14867432/14867432 [==============================] - 353s 24us/sample - loss: 3.9077 - root_mean_squared_error: 1.9629\n",
            "Epoch 2/32\n",
            "14867432/14867432 [==============================] - 353s 24us/sample - loss: 3.3286 - root_mean_squared_error: 1.8243\n",
            "Epoch 3/32\n",
            "14867432/14867432 [==============================] - 352s 24us/sample - loss: 3.2004 - root_mean_squared_error: 1.7888\n",
            "Epoch 4/32\n",
            "14867432/14867432 [==============================] - 351s 24us/sample - loss: 3.0901 - root_mean_squared_error: 1.7577\n",
            "Epoch 5/32\n",
            "14867432/14867432 [==============================] - 354s 24us/sample - loss: 2.9900 - root_mean_squared_error: 1.7289\n",
            "Epoch 6/32\n",
            "14867432/14867432 [==============================] - 350s 24us/sample - loss: 2.6988 - root_mean_squared_error: 1.6422\n",
            "Epoch 7/32\n",
            "14867432/14867432 [==============================] - 352s 24us/sample - loss: 2.4637 - root_mean_squared_error: 1.5693\n",
            "Epoch 8/32\n",
            "14867432/14867432 [==============================] - 350s 24us/sample - loss: 2.3692 - root_mean_squared_error: 1.5390\n",
            "Epoch 9/32\n",
            "14867432/14867432 [==============================] - 351s 24us/sample - loss: 2.3139 - root_mean_squared_error: 1.5209\n",
            "Epoch 10/32\n",
            "14867432/14867432 [==============================] - 350s 24us/sample - loss: 2.2762 - root_mean_squared_error: 1.5084\n",
            "Epoch 11/32\n",
            "14867432/14867432 [==============================] - 352s 24us/sample - loss: 2.2417 - root_mean_squared_error: 1.4969\n",
            "Epoch 12/32\n",
            "14867432/14867432 [==============================] - 351s 24us/sample - loss: 2.2112 - root_mean_squared_error: 1.4868\n",
            "Epoch 13/32\n",
            "14867432/14867432 [==============================] - 352s 24us/sample - loss: 2.1824 - root_mean_squared_error: 1.4770\n",
            "Epoch 14/32\n",
            "14867432/14867432 [==============================] - 350s 24us/sample - loss: 2.1532 - root_mean_squared_error: 1.4672\n",
            "Epoch 15/32\n",
            "14867432/14867432 [==============================] - 352s 24us/sample - loss: 2.1354 - root_mean_squared_error: 1.4611\n",
            "Epoch 16/32\n",
            "14867432/14867432 [==============================] - 350s 24us/sample - loss: 2.1101 - root_mean_squared_error: 1.4524\n",
            "Epoch 17/32\n",
            "14867432/14867432 [==============================] - 351s 24us/sample - loss: 2.0982 - root_mean_squared_error: 1.4482\n",
            "Epoch 18/32\n",
            "14867432/14867432 [==============================] - 350s 24us/sample - loss: 2.1228 - root_mean_squared_error: 1.4563\n",
            "Epoch 19/32\n",
            "14867432/14867432 [==============================] - 351s 24us/sample - loss: 2.0717 - root_mean_squared_error: 1.4389\n",
            "Epoch 20/32\n",
            "14867432/14867432 [==============================] - 351s 24us/sample - loss: 2.0345 - root_mean_squared_error: 1.4261\n",
            "Epoch 21/32\n",
            "14867432/14867432 [==============================] - 351s 24us/sample - loss: 2.0222 - root_mean_squared_error: 1.4217\n",
            "Epoch 22/32\n",
            "14867432/14867432 [==============================] - 351s 24us/sample - loss: 1.9946 - root_mean_squared_error: 1.4121\n",
            "Epoch 23/32\n",
            "14867432/14867432 [==============================] - 353s 24us/sample - loss: 1.9741 - root_mean_squared_error: 1.4048\n",
            "Epoch 24/32\n",
            "14867432/14867432 [==============================] - 353s 24us/sample - loss: 1.9626 - root_mean_squared_error: 1.4007\n",
            "Epoch 25/32\n",
            "14867432/14867432 [==============================] - 355s 24us/sample - loss: 1.9497 - root_mean_squared_error: 1.3961\n",
            "Epoch 26/32\n",
            "14867432/14867432 [==============================] - 353s 24us/sample - loss: 1.9390 - root_mean_squared_error: 1.3922\n",
            "Epoch 27/32\n",
            "14867432/14867432 [==============================] - 354s 24us/sample - loss: 1.9392 - root_mean_squared_error: 1.3923\n",
            "Epoch 28/32\n",
            "14867432/14867432 [==============================] - 354s 24us/sample - loss: 1.9286 - root_mean_squared_error: 1.3885\n",
            "Epoch 29/32\n",
            "14867432/14867432 [==============================] - 355s 24us/sample - loss: 1.9105 - root_mean_squared_error: 1.3820\n",
            "Epoch 30/32\n",
            "14867432/14867432 [==============================] - 354s 24us/sample - loss: 1.9045 - root_mean_squared_error: 1.3798\n",
            "Epoch 31/32\n",
            "14867432/14867432 [==============================] - 354s 24us/sample - loss: 1.9001 - root_mean_squared_error: 1.3782\n",
            "Epoch 32/32\n",
            "14867432/14867432 [==============================] - 353s 24us/sample - loss: 1.9139 - root_mean_squared_error: 1.3831\n"
          ],
          "name": "stdout"
        }
      ]
    },
    {
      "cell_type": "code",
      "metadata": {
        "id": "08Wt7hm7XM2q",
        "colab_type": "code",
        "colab": {}
      },
      "source": [
        "gc.collect()"
      ],
      "execution_count": 0,
      "outputs": []
    },
    {
      "cell_type": "markdown",
      "metadata": {
        "id": "tMUQDvpGwZux",
        "colab_type": "text"
      },
      "source": [
        ""
      ]
    }
  ]
}